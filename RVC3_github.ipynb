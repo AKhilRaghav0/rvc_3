{
  "cells": [
    {
      "cell_type": "markdown",
      "metadata": {
        "id": "view-in-github",
        "colab_type": "text"
      },
      "source": [
        "<a href=\"https://colab.research.google.com/github/AKhilRaghav0/rvc_3/blob/main/RVC3_github.ipynb\" target=\"_parent\"><img src=\"https://colab.research.google.com/assets/colab-badge.svg\" alt=\"Open In Colab\"/></a>"
      ]
    },
    {
      "cell_type": "markdown",
      "metadata": {
        "id": "Vc01O8jLgcFW"
      },
      "source": [
        "<img src=\"https://i.postimg.cc/7LPYJrGn/image.png\" alt=\"Donate\" width=\"300\" height=\"400\">\n",
        "\n",
        "[RechargeMYWifi](https://fypmoney.in/add/cfmer.22610001650842@icici)"
      ]
    },
    {
      "cell_type": "code",
      "execution_count": null,
      "metadata": {
        "id": "Sb5fzhzEXK8X"
      },
      "outputs": [],
      "source": [
        " #@markdown #Open the public URL that will appear below.\n",
        "#@markdown Check to load models from your Google Drive RVC folder\n",
        "import os, zipfile, shutil, tarfile\n",
        "import ipywidgets as widgets\n",
        "from IPython.display import clear_output\n",
        "backup = {\n",
        "        'hubert_base.pt':'https://drive.google.com/file/d/1tHNmjoSHJj7G2xX_Knz4zZ8Mg7g-VhAW/view?usp=sharing',\n",
        "        'pretrained_v2/D40k.pth':'https://drive.google.com/file/d/1BJ3TKdn2xAK9VbV8UIDoo_9K4Yyfjs7-/view?usp=sharing -O pretrained_v2/D40k.pth',\n",
        "        'pretrained_v2/G40k.pth':'https://drive.google.com/file/d/1BJ3TKdn2xAK9VbV8UIDoo_9K4Yyfjs7-/view?usp=sharing -O pretrained_v2/G40k.pth',\n",
        "        'pretrained_v2/f0D40k.pth':'https://drive.google.com/file/d/1A33v5MT1L_-v4iP550ibl5givEqgDus1/view?usp=sharing -O pretrained_v2/f0D40k.pth',\n",
        "        'pretrained_v2/f0G40k.pth':'https://drive.google.com/file/d/1mMEOosc4FO3QRhYxIhHr-GVCxF05tjwV/view?usp=sharing -O pretrained_v2/f0G40k.pth',\n",
        "        'rmvpe.pt':'https://drive.google.com/file/d/1ABwfoHKBlUsyGIy-f_axaHM6vcXxZzQU/view?usp=drive_link'\n",
        "}\n",
        "def aria_backup(missing_file):\n",
        "  url = backup[missing_file]\n",
        "  !gdown --fuzzy $url\n",
        "gdrive = \"True\" # @param [\"True\", \"False\"]\n",
        "tensorboard = \"True\" # @param [\"True\", \"False\"]\n",
        "success=widgets.Button(description=\"\\u2714 Success.\",disabled=True, button_style=\"success\")\n",
        "if not \"installed\" in locals():\n",
        "  !wget https://github.com/777gt/EVC/raw/main/wav2lip-HD.tar.gz\n",
        "  !wget https://github.com/777gt/EVC/raw/main/wav2lip-cache.tar.gz\n",
        "  import tarfile, os\n",
        "  with tarfile.open('/content/wav2lip-cache.tar.gz', 'r:gz') as tar:\n",
        "    for member in tar.getmembers():\n",
        "      target_path = os.path.join('/', member.name)\n",
        "      try:\n",
        "        tar.extract(member, '/')\n",
        "      except:\n",
        "        pass\n",
        "  with tarfile.open('/content/wav2lip-HD.tar.gz') as tar:\n",
        "    tar.extractall('/content')\n",
        "  if gdrive:\n",
        "    from google.colab import drive\n",
        "    drive.mount('/content/drive')\n",
        "    if os.path.exists('/content/drive'):\n",
        "      !mkdir -p /content/drive/MyDrive/RVC_Packages\n",
        "      if not os.path.exists('/content/drive/MyDrive/RVC_Packages/Packages.tar.gz'):\n",
        "        !wget https://github.com/777gt/EVC/raw/main/Packages.tar.gz -O /content/drive/MyDrive/RVC_Packages/Packages.tar.gz\n",
        "      with tarfile.open('/content/drive/MyDrive/RVC_Packages/Packages.tar.gz', 'r:gz') as tar:\n",
        "        for member in tar.getmembers():\n",
        "          target_path = os.path.join('/', member.name)\n",
        "          tar.extract(member, '/')\n",
        "    else:\n",
        "      !wget https://github.com/777gt/EVC/raw/main/Packages.tar.gz -O /content/Packages.tar.gz\n",
        "      with tarfile.open('/content/Packages.tar.gz', 'r:gz') as tar:\n",
        "        for member in tar.getmembers():\n",
        "          target_path = os.path.join('/', member.name)\n",
        "          tar.extract(member, '/')\n",
        "  else:\n",
        "    !wget https://github.com/777gt/EVC/raw/main/Packages.tar.gz -O /content/Packages.tar.gz\n",
        "    with tarfile.open('/content/Packages.tar.gz', 'r:gz') as tar:\n",
        "      for member in tar.getmembers():\n",
        "        target_path = os.path.join('/', member.name)\n",
        "        tar.extract(member, '/')\n",
        "  !pip install -q gTTS torchcrepe\n",
        "  !pip install gradio --upgrade\n",
        "  %cd /content\n",
        "  !git clone https://github.com/777gt/-EVC-\n",
        "  %cd /content/-EVC-\n",
        "  !wget https://huggingface.co/lj1995/VoiceConversionWebUI/resolve/main/rmvpe.pt\n",
        "  !wget https://huggingface.co/lj1995/VoiceConversionWebUI/resolve/main/hubert_base.pt\n",
        "  !wget https://huggingface.co/lj1995/VoiceConversionWebUI/resolve/main/pretrained_v2/D40k.pth -O /content/-EVC-/pretrained_v2/D40k.pth\n",
        "  !wget https://huggingface.co/lj1995/VoiceConversionWebUI/resolve/main/pretrained_v2/G40k.pth -O /content/-EVC-/pretrained_v2/G40k.pth\n",
        "  !wget https://huggingface.co/lj1995/VoiceConversionWebUI/resolve/main/pretrained_v2/f0D40k.pth -O /content/-EVC-/pretrained_v2/f0D40k.pth\n",
        "  !wget https://huggingface.co/lj1995/VoiceConversionWebUI/resolve/main/pretrained_v2/f0G40k.pth -O /content/-EVC-/pretrained_v2/f0G40k.pth\n",
        "  for file in list(backup.keys()):\n",
        "    if not os.path.exists(file): aria_backup(file)\n",
        "  installed=True\n",
        "  clear_output()\n",
        "  display(success)\n",
        "if gdrive:\n",
        "  if os.path.exists('/content/drive/MyDrive/RVC'):\n",
        "    %cd /content/drive/MyDrive/RVC\n",
        "  else:\n",
        "    !mkdir -p /content/drive/MyDrive/RVC\n",
        "    %cd /content/drive/MyDrive/RVC\n",
        "  !mkdir -p /content/unzips\n",
        "  for file in os.listdir():\n",
        "    if file.endswith('.zip'):\n",
        "      file_name=file.split('.')[0]\n",
        "      zip_path = f'/content/drive/MyDrive/RVC/{file}'\n",
        "      with zipfile.ZipFile(zip_path, 'r') as zip_ref:\n",
        "        for member in zip_ref.infolist():\n",
        "          if member.filename.endswith('.pth'):\n",
        "            extraction_dir=f'/content/unzips/{file_name}'\n",
        "            file_size = member.file_size\n",
        "            if file_size < 100 * 1024 * 1024:\n",
        "              with zip_ref.open(member) as file:\n",
        "                if len(file.read()) < 100 * 1024 * 1024:\n",
        "                  zip_ref.extract(member, path=extraction_dir)\n",
        "                  !find /content/unzips/{file_name} -name '*.pth' -exec mv {{}} /content/-EVC-/weights/{file_name}.pth \\;\n",
        "          if member.filename.endswith('.index'):\n",
        "            extraction_dir=f'/content/unzips/'\n",
        "            with zip_ref.open(member) as file:\n",
        "              zip_ref.extract(member, path=extraction_dir)\n",
        "              !mkdir -p /content/-EVC-/logs/{file_name}\n",
        "              os.chdir(f\"/content/-EVC-/logs/{file_name}\")\n",
        "              !find /content/unzips -name *.index -exec mv {} . \\;\n",
        "if os.path.exists('/content/unzips'):\n",
        "  shutil.rmtree('/content/unzips')\n",
        "  pass\n",
        "if tensorboard:\n",
        "  %load_ext tensorboard\n",
        "  %tensorboard --logdir /content/-EVC-/logs\n",
        "%cd /content/-EVC-\n",
        "!mkdir -p ./audios\n",
        "!python3 GUI.py --colab --pycmd python3"
      ]
    },
    {
      "cell_type": "code",
      "execution_count": null,
      "metadata": {
        "id": "u9y0dF6BXIxL",
        "cellView": "form"
      },
      "outputs": [],
      "source": [
        "#@markdown ###WebSSH into colab runtime (if required for minor Tweaks)\n",
        "\n",
        "!apt install tmate\n",
        "!tmate"
      ]
    },
    {
      "cell_type": "code",
      "source": [],
      "metadata": {
        "id": "ymWjN30XvoQ0"
      },
      "execution_count": null,
      "outputs": []
    },
    {
      "cell_type": "code",
      "execution_count": null,
      "metadata": {
        "id": "88_4aP8N_mNR",
        "cellView": "form"
      },
      "outputs": [],
      "source": [
        "#@markdown ## Vocal Seprator (RUN IT)\n",
        "\n",
        "!pip install git+https://github.com/facebookresearch/demucs#egg=demucs\n",
        "!pip install scipy gradio\n",
        "!pip install invisible-watermark\n",
        "import os\n",
        "import gradio as gr\n",
        "from scipy.io.wavfile import write\n",
        "\n",
        "\n",
        "def inference(audio):\n",
        "  os.makedirs(\"out\", exist_ok=True)\n",
        "  write('test.wav', audio[0], audio[1])\n",
        "  os.system(\"python3 -m demucs.separate -n htdemucs --two-stems=vocals  test.wav -o out\")\n",
        "  return \"./out/htdemucs/test/vocals.wav\",\"./out/htdemucs/test/no_vocals.wav\"\n",
        "\n",
        "title = \"Source Separation (v4)\"\n",
        "\n",
        "gr.Interface(\n",
        "    inference,\n",
        "    gr.Audio(type=\"numpy\", label=\"Input\"),\n",
        "    [gr.Audio(type=\"filepath\", label=\"Vocals\"),gr.Audio(type=\"filepath\", label=\"No Vocals / Instrumental\")],\n",
        "    title=title,\n",
        "    ).launch(enable_queue=True)"
      ]
    },
    {
      "cell_type": "code",
      "execution_count": null,
      "metadata": {
        "id": "0o9rMOIk1EEF",
        "cellView": "form"
      },
      "outputs": [],
      "source": [
        "if not os.path.exists('/content/-EVC-'):\n",
        "  print(\"You need to run the first cell before loading your model! Run the GUI, stop it and then load the model.\")\n",
        "else:\n",
        "  #@title Google Drive Backup (to resume training)\n",
        "  Name = \"kk\"#@param {type:\"string\"}\n",
        "  folder = Name\n",
        "  Type = \"Save\" #@param [\"Save\", \"Load\"]\n",
        "  import tarfile, os\n",
        "  from google.colab import drive\n",
        "  drive.mount('/content/drive')\n",
        "  !mkdir -p /content/drive/MyDrive/RVC_Packages\n",
        "  if Type=='Save':\n",
        "    with tarfile.open(f'/content/drive/MyDrive/RVC_Packages/{folder}.tar.gz','w:gz') as tar:\n",
        "      tar.add(f'/content/-EVC-/logs/{folder}', arcname=f'logs/{folder}')\n",
        "      if os.path.exists(f'/content/-EVC-/weights/{folder}.pth'):\n",
        "        tar.add(f'/content/-EVC-/weights/{folder}.pth', arcname=f'weights/{folder}.pth')\n",
        "      print(f'Backed up {folder} to RVC_Packages in your google drive.')\n",
        "  else:\n",
        "    if not os.path.exists(f'/content/drive/MyDrive/RVC_Packages/{folder}.tar.gz'):\n",
        "      print(\"File not found.\")\n",
        "    else:\n",
        "      with tarfile.open(f'/content/drive/MyDrive/RVC_Packages/{folder}.tar.gz','r:gz') as tar:\n",
        "        tar.extractall('/content/-EVC-')"
      ]
    }
  ],
  "metadata": {
    "colab": {
      "provenance": [],
      "gpuType": "T4",
      "include_colab_link": true
    },
    "kernelspec": {
      "display_name": "Python 3",
      "name": "python3"
    },
    "language_info": {
      "name": "python"
    },
    "accelerator": "GPU"
  },
  "nbformat": 4,
  "nbformat_minor": 0
}